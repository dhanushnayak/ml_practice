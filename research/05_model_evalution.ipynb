{
 "cells": [
  {
   "cell_type": "code",
   "execution_count": 1,
   "metadata": {},
   "outputs": [],
   "source": [
    "import os\n",
    "os.chdir(\"../\")"
   ]
  },
  {
   "cell_type": "code",
   "execution_count": 2,
   "metadata": {},
   "outputs": [
    {
     "data": {
      "text/plain": [
       "'c:\\\\Users\\\\admin\\\\Desktop\\\\Project\\\\e2e\\\\ml_practice'"
      ]
     },
     "execution_count": 2,
     "metadata": {},
     "output_type": "execute_result"
    }
   ],
   "source": [
    "%pwd"
   ]
  },
  {
   "cell_type": "code",
   "execution_count": 5,
   "metadata": {},
   "outputs": [],
   "source": [
    "os.environ['MLFLOW_TRACKING_URI'] = \"https://dagshub.com/dhanushnayak/ml_practice.mlflow\"\n",
    "os.environ['MLFLOW_TRACKING_USERNAME'] = \"dhanushnayak\"\n",
    "os.environ['MLFLOW_TRACKING_PASSWORD'] = \"253df65190e7dc9ee74592f4802bc08e1df73a7e\""
   ]
  },
  {
   "cell_type": "code",
   "execution_count": 6,
   "metadata": {},
   "outputs": [],
   "source": [
    "from dataclasses import dataclass\n",
    "from pathlib import Path\n",
    "\n",
    "@dataclass(frozen=True)\n",
    "class ModelEvaluationConfig:\n",
    "    root_dir: Path\n",
    "    test_data: Path\n",
    "    model_path: Path\n",
    "    all_params: dict\n",
    "    metric_file_name: Path\n",
    "    target_column: str\n",
    "    mlflow_uri: str\n"
   ]
  },
  {
   "cell_type": "code",
   "execution_count": 7,
   "metadata": {},
   "outputs": [],
   "source": [
    "from mlProject.constants import *\n",
    "from mlProject.utils.comman import read_yaml, create_directories, save_bin, save_json"
   ]
  },
  {
   "cell_type": "code",
   "execution_count": 8,
   "metadata": {},
   "outputs": [],
   "source": [
    "class ConfigurationManager:\n",
    "    def __init__(self, config_filepath  = CONFIG_FILE_PATH, params_filepath =  PARAMS_FILE_PATH, schema_filepath =  SCHEMA_FILE_PATH):\n",
    "\n",
    "        self.config = read_yaml(config_filepath)\n",
    "        self.params =  read_yaml(params_filepath)\n",
    "        self.schema = read_yaml(schema_filepath)\n",
    "\n",
    "        create_directories([self.config.artifacts_root])\n",
    "\n",
    "    def get_model_evaluation_config(self):\n",
    "        config = self.config.model_evaluation\n",
    "        params = self.params.ElasticNet\n",
    "        schema = self.schema.TARGET_COLUMN\n",
    "\n",
    "        create_directories([config.root_dir])\n",
    "\n",
    "        model_evaluation_config =  ModelEvaluationConfig(\n",
    "            root_dir= config.root_dir,\n",
    "            test_data=config.test_data_path,\n",
    "            model_path=config.model_path,\n",
    "            all_params=params,\n",
    "            metric_file_name=config.metric_file_name,\n",
    "            target_column=schema.name,\n",
    "            mlflow_uri=\"https://dagshub.com/dhanushnayak/ml_practice.mlflow\"\n",
    "        )\n",
    "\n",
    "        return model_evaluation_config"
   ]
  },
  {
   "cell_type": "code",
   "execution_count": 9,
   "metadata": {},
   "outputs": [
    {
     "name": "stdout",
     "output_type": "stream",
     "text": [
      "[2023-07-30 16:56:05,362: INFO: comman: yaml file: config\\config.yaml loaded successfully]\n",
      "[2023-07-30 16:56:05,368: INFO: comman: yaml file: params.yaml loaded successfully]\n",
      "[2023-07-30 16:56:05,386: INFO: comman: yaml file: schema.yaml loaded successfully]\n",
      "[2023-07-30 16:56:05,390: INFO: comman: created directory at: artifacts]\n",
      "[2023-07-30 16:56:05,394: INFO: comman: created directory at: artifacts/model_evaluation]\n"
     ]
    },
    {
     "data": {
      "text/plain": [
       "ModelEvaluationConfig(root_dir='artifacts/model_evaluation', test_data='artifacts/data_transformation/test.csv', model_path='artifacts/model_trainer/model.joblib', all_params=ConfigBox({'alpha': 0.5, 'l1_ratio': 0.7}), metric_file_name='artifacts/model_evaluation/metrics.json', target_column='quality', mlflow_uri='https://dagshub.com/dhanushnayak/ml_practice.mlflow')"
      ]
     },
     "execution_count": 9,
     "metadata": {},
     "output_type": "execute_result"
    }
   ],
   "source": [
    "config =  ConfigurationManager()\n",
    "config.get_model_evaluation_config()"
   ]
  },
  {
   "cell_type": "code",
   "execution_count": 12,
   "metadata": {},
   "outputs": [],
   "source": [
    "import os\n",
    "import pandas as pd\n",
    "from sklearn.metrics import mean_absolute_error,mean_squared_error, r2_score\n",
    "from urllib.parse import urlparse\n",
    "import mlflow\n",
    "import mlflow.sklearn\n",
    "import numpy as np\n",
    "import joblib"
   ]
  },
  {
   "cell_type": "code",
   "execution_count": 17,
   "metadata": {},
   "outputs": [],
   "source": [
    "class ModelEvaluation:\n",
    "    def __init__(self,config: ModelEvaluationConfig):\n",
    "        self.config = config\n",
    "\n",
    "    def eval_metrics(self,actual, pred):\n",
    "        rmse = np.sqrt(mean_squared_error(actual,pred))\n",
    "        mae = mean_absolute_error(actual,pred)\n",
    "        r2 = r2_score(actual,pred)\n",
    "        return {\"rmse\":rmse,\"mae\":mae,\"r2\":r2}\n",
    "    \n",
    "    def log_into_mlfow(self):\n",
    "\n",
    "        test_data = pd.read_csv(self.config.test_data)\n",
    "        model = joblib.load(self.config.model_path)\n",
    "\n",
    "        test_x =  test_data.drop([self.config.target_column],axis=1)\n",
    "        test_y = test_data[[self.config.target_column]]\n",
    "\n",
    "        mlflow.set_registry_uri(self.config.mlflow_uri)\n",
    "        tracking_url_type_store =  urlparse(mlflow.get_tracking_uri()).scheme\n",
    "        print(tracking_url_type_store,mlflow.get_tracking_uri(),urlparse(mlflow.get_tracking_uri()))\n",
    "\n",
    "        with mlflow.start_run():\n",
    "            predictions = model.predict(test_x)\n",
    "\n",
    "            scores =  self.eval_metrics(test_y,predictions)\n",
    "\n",
    "            save_json(path=Path(self.config.metric_file_name),data=scores)\n",
    "\n",
    "            mlflow.log_params(self.config.all_params)\n",
    "            mlflow.log_metrics(scores)\n",
    "\n",
    "            if tracking_url_type_store != 'file':\n",
    "                mlflow.sklearn.log_model(model,\"model\",registered_model_name='ElasticModel')\n",
    "            else:\n",
    "                mlflow.sklearn.log_model(model,'model')\n",
    "\n"
   ]
  },
  {
   "cell_type": "code",
   "execution_count": 18,
   "metadata": {},
   "outputs": [
    {
     "name": "stdout",
     "output_type": "stream",
     "text": [
      "[2023-07-30 17:47:28,780: INFO: comman: yaml file: config\\config.yaml loaded successfully]\n",
      "[2023-07-30 17:47:28,784: INFO: comman: yaml file: params.yaml loaded successfully]\n",
      "[2023-07-30 17:47:28,792: INFO: comman: yaml file: schema.yaml loaded successfully]\n",
      "[2023-07-30 17:47:28,795: INFO: comman: created directory at: artifacts]\n",
      "[2023-07-30 17:47:28,798: INFO: comman: created directory at: artifacts/model_evaluation]\n",
      "https https://dagshub.com/dhanushnayak/ml_practice.mlflow ParseResult(scheme='https', netloc='dagshub.com', path='/dhanushnayak/ml_practice.mlflow', params='', query='', fragment='')\n",
      "[2023-07-30 17:47:29,434: INFO: comman: json file saved at: artifacts\\model_evaluation\\metrics.json]\n"
     ]
    },
    {
     "name": "stderr",
     "output_type": "stream",
     "text": [
      "Registered model 'ElasticModel' already exists. Creating a new version of this model...\n",
      "2023/07/30 17:47:40 INFO mlflow.tracking._model_registry.client: Waiting up to 300 seconds for model version to finish creation.                     Model name: ElasticModel, version 2\n",
      "Created version '2' of model 'ElasticModel'.\n"
     ]
    }
   ],
   "source": [
    "try:\n",
    "    config = ConfigurationManager()\n",
    "    model_evaluation_config = config.get_model_evaluation_config()\n",
    "    model_evaluation = ModelEvaluation(model_evaluation_config)\n",
    "    model_evaluation.log_into_mlfow()\n",
    "except Exception as e:\n",
    "    raise e"
   ]
  }
 ],
 "metadata": {
  "kernelspec": {
   "display_name": ".venv",
   "language": "python",
   "name": "python3"
  },
  "language_info": {
   "codemirror_mode": {
    "name": "ipython",
    "version": 3
   },
   "file_extension": ".py",
   "mimetype": "text/x-python",
   "name": "python",
   "nbconvert_exporter": "python",
   "pygments_lexer": "ipython3",
   "version": "3.8.8"
  },
  "orig_nbformat": 4
 },
 "nbformat": 4,
 "nbformat_minor": 2
}
